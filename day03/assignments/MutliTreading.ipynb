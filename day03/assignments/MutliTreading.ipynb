{
 "cells": [
  {
   "cell_type": "markdown",
   "id": "1d57264a",
   "metadata": {},
   "source": [
    "## 1. Simple Thread Creation\n",
    "\n",
    "Create a simple program that uses threading to print numbers from 1 to 5 in two separate threads."
   ]
  },
  {
   "cell_type": "code",
   "execution_count": 1,
   "id": "0fb3360f",
   "metadata": {},
   "outputs": [
    {
     "name": "stdout",
     "output_type": "stream",
     "text": [
      "00\n",
      "1\n",
      "2\n",
      "3\n",
      "4\n",
      "\n",
      "1\n",
      "2\n",
      "3\n",
      "4\n"
     ]
    }
   ],
   "source": [
    "# your code here\n",
    "from threading import Thread\n",
    "\n",
    "def count(n) :\n",
    "    for i in range(n):\n",
    "         print(i)\n",
    "\n",
    "t1 = Thread(target=count ,args=(5,))\n",
    "t2 = Thread(target=count ,args=(5,))\n",
    "t1.start()\n",
    "t2.start()\n",
    "\n",
    "t1.join()\n",
    "t2.join()"
   ]
  },
  {
   "cell_type": "markdown",
   "id": "a8d8ab14",
   "metadata": {},
   "source": [
    "## 2. Thread Synchronization\n",
    "\n",
    "Modify the program from Exercise 1 to use locks to synchronize the two threads and ensure that they print numbers alternately."
   ]
  },
  {
   "cell_type": "code",
   "execution_count": 63,
   "id": "c3dbaf9d",
   "metadata": {},
   "outputs": [
    {
     "name": "stdout",
     "output_type": "stream",
     "text": [
      "Thread 1 :1\n",
      "Thread 1 :3\n",
      "Thread 1 :5\n"
     ]
    }
   ],
   "source": [
    "# your code here\n",
    "import threading\n",
    "lock1 = threading.Lock()\n",
    "lock2 = threading.Lock()\n",
    "n = 0\n",
    "def count1() :\n",
    "    global n \n",
    "    while n < 5 :\n",
    "       with lock1  :\n",
    "         if n%2 == 0 :\n",
    "           n=n+1\n",
    "           print(f\"Thread 1 :{n}\")\n",
    "         else :\n",
    "            n =n+1\n",
    "         \n",
    "\n",
    "\n",
    "\n",
    "def count2() :\n",
    "    global n \n",
    "    while n < 5 :\n",
    "       with lock1  :\n",
    "        if n%2 != 0 :\n",
    "           n=n+1\n",
    "           print(f\"Thread 2 :{n}\")\n",
    "        else :\n",
    "            n =n+1\n",
    "        print(f\"Thread 2 :{n}\")\n",
    "\n",
    "\n",
    "       \n",
    "\n",
    "\n",
    "\n",
    "\n",
    "t1 = threading.Thread(target=count1 )\n",
    "t2 = threading.Thread(target=count2 )\n",
    "t1.start()\n",
    "t2.start()\n",
    "\n",
    "t1.join()\n",
    "t2.join()"
   ]
  },
  {
   "cell_type": "code",
   "execution_count": 64,
   "id": "f1bf7228",
   "metadata": {},
   "outputs": [],
   "source": [
    "import threading\n",
    "\n",
    "x = 0\n",
    "condition = threading.Condition()\n",
    "\n",
    "def print_odd_numbers():\n",
    "    global x\n",
    "    while x < 4:\n",
    "        with condition:\n",
    "            if x % 2 == 0:\n",
    "                condition.wait()\n",
    "            x += 1\n",
    "            print(f\"Thread 1: {x}\")\n",
    "            condition.notify()\n",
    "\n",
    "def print_even_numbers():\n",
    "    global x\n",
    "    while x < 4:\n",
    "        with condition:\n",
    "            if x % 2 != 0:\n",
    "                condition.wait()\n",
    "            x += 1\n",
    "            print(f\"Thread 2: {x}\")\n",
    "            condition.notify()\n",
    "\n",
    "t1 = threading.Thread(target=print_odd_numbers)\n",
    "t2 = threading.Thread(target=print_even_numbers)\n"
   ]
  },
  {
   "cell_type": "markdown",
   "id": "8d45fee2",
   "metadata": {},
   "source": [
    "## 3. Thread Pooling\n",
    "\n",
    "Use the `concurrent.futures.ThreadPoolExecutor` module to create a thread pool and parallelize a task (e.g., calculating the square of numbers) among multiple threads.\n",
    "\n",
    "```python\n",
    "numbers = [1, 2, 3, 4, 5]\n",
    "```"
   ]
  },
  {
   "cell_type": "code",
   "execution_count": 65,
   "id": "0379e5e9",
   "metadata": {},
   "outputs": [
    {
     "name": "stdout",
     "output_type": "stream",
     "text": [
      "Square of 1 is 1Square of 2 is 4\n",
      "\n",
      "Square of 3 is 9\n",
      "Square of 4 is 16\n",
      "Square of 5 is 25\n"
     ]
    }
   ],
   "source": [
    "# your code here\n",
    "from time import sleep\n",
    "import concurrent.futures\n",
    "\n",
    "def calculate_square(number):\n",
    "    result = number * number\n",
    "    print(f\"Square of {number} is {result}\")\n",
    "    return result\n",
    "\n",
    "numbers = [1, 2, 3, 4, 5]\n",
    "\n",
    "\n",
    "with concurrent.futures.ThreadPoolExecutor() as executor:\n",
    "    \n",
    "    futures = [executor.submit(calculate_square, num) for num in numbers]\n",
    "\n",
    "    \n",
    "    concurrent.futures.wait(futures)"
   ]
  },
  {
   "cell_type": "markdown",
   "id": "aacf816a",
   "metadata": {},
   "source": [
    "## 4. Thread with Function Arguments\n",
    "\n",
    "```python\n",
    "\n",
    "import threading\n",
    "import time\n",
    "\n",
    "def print_hello():\n",
    "    for _ in range(5):\n",
    "        print(\"Hello, \", end='')\n",
    "        time.sleep(0.1)\n",
    "\n",
    "def print_world():\n",
    "    for _ in range(5):\n",
    "        print(\"World!\")\n",
    "        time.sleep(0.1)\n",
    "\n",
    "# Create two threads\n",
    "thread1 = threading.Thread(target=print_hello)\n",
    "thread2 = threading.Thread(target=print_world)\n",
    "\n",
    "# Start the threads\n",
    "thread1.start()\n",
    "thread2.start()\n",
    "\n",
    "# Wait for both threads to finish\n",
    "thread1.join()\n",
    "thread2.join()\n",
    "```\n",
    "\n",
    "Modify this program to pass an argument to the threads and print the thread's name along with the message."
   ]
  },
  {
   "cell_type": "code",
   "execution_count": 66,
   "id": "d7fd05ee",
   "metadata": {},
   "outputs": [
    {
     "name": "stdout",
     "output_type": "stream",
     "text": [
      "Hello from Thread-1World! from Thread-2\n",
      "\n",
      "Hello from Thread-1\n",
      "World! from Thread-2\n",
      "Hello from Thread-1World! from Thread-2\n",
      "\n",
      "Hello from Thread-1\n",
      "World! from Thread-2\n",
      "World! from Thread-2\n",
      "Hello from Thread-1\n"
     ]
    }
   ],
   "source": [
    "import threading\n",
    "import time\n",
    "\n",
    "def print_message(message):\n",
    "    for _ in range(5):\n",
    "        print(f\"{message} from {threading.current_thread().name}\")\n",
    "        time.sleep(0.1)\n",
    "\n",
    "\n",
    "thread1 = threading.Thread(target=print_message, args=(\"Hello\",), name=\"Thread-1\")\n",
    "thread2 = threading.Thread(target=print_message, args=(\"World!\",), name=\"Thread-2\")\n",
    "\n",
    "\n",
    "thread1.start()\n",
    "thread2.start()\n",
    "\n",
    "\n",
    "thread1.join()\n",
    "thread2.join()"
   ]
  },
  {
   "cell_type": "code",
   "execution_count": null,
   "id": "d2fbff02",
   "metadata": {},
   "outputs": [],
   "source": []
  }
 ],
 "metadata": {
  "kernelspec": {
   "display_name": "Python 3",
   "language": "python",
   "name": "python3"
  },
  "language_info": {
   "codemirror_mode": {
    "name": "ipython",
    "version": 3
   },
   "file_extension": ".py",
   "mimetype": "text/x-python",
   "name": "python",
   "nbconvert_exporter": "python",
   "pygments_lexer": "ipython3",
   "version": "3.11.2"
  }
 },
 "nbformat": 4,
 "nbformat_minor": 5
}
